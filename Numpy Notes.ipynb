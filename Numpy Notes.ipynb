{
 "cells": [
  {
   "cell_type": "markdown",
   "id": "c39f124e",
   "metadata": {},
   "source": [
    "# Numpy"
   ]
  },
  {
   "cell_type": "markdown",
   "id": "df27a623",
   "metadata": {},
   "source": [
    "NumPy stands for numeric python which is a python package for the computation and processing of the multidimensional and single dimensional array elements."
   ]
  },
  {
   "cell_type": "markdown",
   "id": "e95964fc",
   "metadata": {},
   "source": [
    "numpy : a  high level data science library/API for storing ,retrieval and manipulation of large numeric datasets and operations associated with numeric data\n"
   ]
  },
  {
   "cell_type": "raw",
   "id": "3fb2fe7b",
   "metadata": {},
   "source": [
    "-> NumPy provides a convenient and efficient way to handle the vast amount of data. \n",
    "-> NumPy is also very convenient with Matrix multiplication and data reshaping.\n",
    "-> NumPy is fast which makes it reasonable to work with a large set of data."
   ]
  },
  {
   "cell_type": "raw",
   "id": "5509d478",
   "metadata": {},
   "source": [
    "The key features of numpy are:\n",
    "\n",
    "-ndarrays: n-dimensional arrays of the same data type which are fast and space-efficient. There are a number of built-in methods for ndarrays which allow for rapid processing of data without using loops (e.g., compute the mean).\n",
    "\n",
    "-Broadcasting: a useful tool which defines implicit behavior between multi-dimensional arrays of different sizes.\n",
    "\n",
    "-Vectorization: enables numeric operations on ndarrays.\n",
    "\n",
    "-Input/Output: simplifies reading and writing of data from/to file."
   ]
  },
  {
   "cell_type": "markdown",
   "id": "969960f8",
   "metadata": {},
   "source": [
    "Numpy main object is the multidimensional array."
   ]
  },
  {
   "cell_type": "markdown",
   "id": "c2ab48f4",
   "metadata": {},
   "source": [
    "## Advantages"
   ]
  },
  {
   "cell_type": "raw",
   "id": "71ddc563",
   "metadata": {},
   "source": [
    "->NumPy performs array-oriented computing.# completely works with array formats \n",
    "->It efficiently implements the multidimensional arrays.\n",
    "->It performs scientific computations.\n",
    "->It is capable of performing Fourier Transform and reshaping the data stored in multidimensional arrays.\n",
    "->NumPy provides the in-built functions for linear algebra and random number generation."
   ]
  },
  {
   "cell_type": "markdown",
   "id": "876be1fe",
   "metadata": {},
   "source": [
    "# Array"
   ]
  },
  {
   "cell_type": "raw",
   "id": "b46d3d0b",
   "metadata": {},
   "source": [
    "-array = collection of similar datatypes \n",
    "\n",
    "-array can store only one type of data.\n",
    "\n",
    "-In Python,the size of array is not fixed.Array can increase or decrease their size dynamically.\n",
    "\n",
    "-Array or list are not same.\n",
    "\n",
    "-Array uses less memory in list.\n",
    "\n",
    "-Python does not support multidimensinoal array but we can create it using third oarty package like numpy.\n"
   ]
  },
  {
   "cell_type": "code",
   "execution_count": null,
   "id": "16783827",
   "metadata": {},
   "outputs": [],
   "source": [
    "# Numpy : It works with dimensionality data "
   ]
  },
  {
   "cell_type": "markdown",
   "id": "365701b8",
   "metadata": {},
   "source": [
    "## Basic Numpy"
   ]
  },
  {
   "cell_type": "code",
   "execution_count": null,
   "id": "07c4fc3b",
   "metadata": {},
   "outputs": [],
   "source": [
    "#difference between list and numpy"
   ]
  },
  {
   "cell_type": "code",
   "execution_count": 3,
   "id": "e65994c3",
   "metadata": {},
   "outputs": [
    {
     "name": "stdout",
     "output_type": "stream",
     "text": [
      "[1, 2, 3, 4]\n",
      "<class 'list'>\n",
      "4\n"
     ]
    },
    {
     "ename": "AttributeError",
     "evalue": "'list' object has no attribute 'shape'",
     "output_type": "error",
     "traceback": [
      "\u001b[1;31m---------------------------------------------------------------------------\u001b[0m",
      "\u001b[1;31mAttributeError\u001b[0m                            Traceback (most recent call last)",
      "Cell \u001b[1;32mIn[3], line 6\u001b[0m\n\u001b[0;32m      3\u001b[0m \u001b[38;5;28mprint\u001b[39m(\u001b[38;5;28mtype\u001b[39m(a))\n\u001b[0;32m      5\u001b[0m \u001b[38;5;28mprint\u001b[39m(\u001b[38;5;28mlen\u001b[39m(a))\n\u001b[1;32m----> 6\u001b[0m \u001b[38;5;28mprint\u001b[39m(\u001b[43ma\u001b[49m\u001b[38;5;241;43m.\u001b[39;49m\u001b[43mshape\u001b[49m)\n",
      "\u001b[1;31mAttributeError\u001b[0m: 'list' object has no attribute 'shape'"
     ]
    }
   ],
   "source": [
    "a=[1,2,3,4]\n",
    "print(a)\n",
    "print(type(a))\n",
    "\n",
    "print(len(a))\n",
    "print(a.shape)"
   ]
  },
  {
   "cell_type": "code",
   "execution_count": null,
   "id": "9b43a11f",
   "metadata": {},
   "outputs": [],
   "source": [
    "# list is a scalar = there is no dims for the list "
   ]
  },
  {
   "cell_type": "markdown",
   "id": "d066b981",
   "metadata": {},
   "source": [
    "## Array method in numpy"
   ]
  },
  {
   "cell_type": "code",
   "execution_count": 5,
   "id": "af5e6bf5",
   "metadata": {},
   "outputs": [],
   "source": [
    "import numpy as np"
   ]
  },
  {
   "cell_type": "code",
   "execution_count": 6,
   "id": "2354967d",
   "metadata": {},
   "outputs": [],
   "source": [
    "## array is used to create the dimensions"
   ]
  },
  {
   "cell_type": "code",
   "execution_count": 7,
   "id": "f9abf4c9",
   "metadata": {},
   "outputs": [
    {
     "name": "stdout",
     "output_type": "stream",
     "text": [
      "[1 2 3 4]\n",
      "<class 'numpy.ndarray'>\n",
      "1\n"
     ]
    }
   ],
   "source": [
    "#1 D array\n",
    "\n",
    "a=np.array([1,2,3,4])\n",
    "print(a)\n",
    "\n",
    "print(type(a))\n",
    "print(a.ndim)     # keyword is used for finding the dimensions \n"
   ]
  },
  {
   "cell_type": "markdown",
   "id": "69c8aed6",
   "metadata": {},
   "source": [
    "### Note- ndim keyword is used for finding the dimensions. \n"
   ]
  },
  {
   "cell_type": "code",
   "execution_count": 8,
   "id": "b3b3b09c",
   "metadata": {},
   "outputs": [],
   "source": [
    "#let's understand about dims"
   ]
  },
  {
   "cell_type": "code",
   "execution_count": 9,
   "id": "9395e9f7",
   "metadata": {},
   "outputs": [
    {
     "name": "stdout",
     "output_type": "stream",
     "text": [
      "[1 2 3 4]\n",
      "<class 'numpy.ndarray'>\n",
      "(2, 4)\n",
      "2\n"
     ]
    }
   ],
   "source": [
    "# 2D array\n",
    "\n",
    "ab=np.array([[1,2,3,4] , [5,6,7,8]])\n",
    "print(a)\n",
    "\n",
    "print(type(ab))\n",
    "print(ab.shape)  #shape keyword is used to find the size of array       #(2,4) means 2 rows 4 colomns\n",
    "print(ab.ndim)      #2 means 2 dimensinal array"
   ]
  },
  {
   "cell_type": "code",
   "execution_count": 10,
   "id": "155a28d9",
   "metadata": {},
   "outputs": [
    {
     "name": "stdout",
     "output_type": "stream",
     "text": [
      "[[[1 2 3 4]\n",
      "  [5 6 7 8]]]\n",
      "<class 'numpy.ndarray'>\n",
      "(1, 2, 4)\n",
      "3\n"
     ]
    }
   ],
   "source": [
    "#3D array\n",
    "\n",
    "a = np.array([[[1,2,3,4] , [5,6,7,8]]])\n",
    "print(a)\n",
    "print(type(a))\n",
    "print(a.shape)    #shape keyword is used to find the size of array\n",
    "print(a.ndim)      #3 means 3 dimensional array"
   ]
  },
  {
   "cell_type": "raw",
   "id": "587be3e2",
   "metadata": {},
   "source": [
    "(1,2,4)\n",
    "# fisrt brackwt is for rows     #1\n",
    "# last for columns               #4\n",
    "# middle for axis                #2"
   ]
  },
  {
   "cell_type": "markdown",
   "id": "dbed1c6f",
   "metadata": {},
   "source": [
    "### Note- shape keyword is used to find the size of array"
   ]
  },
  {
   "cell_type": "code",
   "execution_count": 11,
   "id": "81f35d1e",
   "metadata": {},
   "outputs": [
    {
     "name": "stdout",
     "output_type": "stream",
     "text": [
      "[[[3 5 6 8]]]\n",
      "<class 'numpy.ndarray'>\n",
      "(1, 1, 4)\n",
      "3\n",
      "\n",
      "Memory size of a NumPy array in bytes : 16\n",
      "\n",
      "Size of the array : 4\n",
      "\n",
      "Memory size of one array element in bytes : 4\n",
      "\n",
      "Memory size of numpy array in bytes : 16\n"
     ]
    }
   ],
   "source": [
    "a=np.array([[[3,5,6,8]]])\n",
    "print(a)\n",
    "print(type(a))\n",
    "print(a.shape)    #shape keyword is used to find the size of array\n",
    "print(a.ndim)\n",
    "\n",
    "print(\"\\nMemory size of a NumPy array in bytes :\",a.nbytes)   #Memory size of a NumPy array in bytes\n",
    "\n",
    "print(\"\\nSize of the array :\",a.size)      #size keyword is used to find how many number of values are there \n",
    "\n",
    "     \n",
    "print(\"\\nMemory size of one array element in bytes :\",a.itemsize)     #Memory size of one array element in bytes\n",
    "\n",
    "print(\"\\nMemory size of numpy array in bytes :\",a.size*a.itemsize)  #Memory size of numpy array in bytes"
   ]
  },
  {
   "cell_type": "markdown",
   "id": "ecd60ba4",
   "metadata": {},
   "source": [
    "### Note-\n",
    "\n",
    "1. nbytes keyword is used directly to find Memory size of a NumPy array in bytes.\n",
    "\n",
    "2. size keyword is used to find how many number of values are there. \n",
    "\n",
    "3. itemsize keyword is used to find Memory size of one array element in bytes.\n",
    "\n",
    "4. size*itemsize is used to find Memory size of numpy array in bytes.\n",
    "\n",
    "     "
   ]
  },
  {
   "cell_type": "code",
   "execution_count": 12,
   "id": "8010b9bf",
   "metadata": {},
   "outputs": [],
   "source": [
    "#how much memory needed for the variable to occpy in memory space- 32,64"
   ]
  },
  {
   "cell_type": "code",
   "execution_count": 13,
   "id": "0a6708dc",
   "metadata": {},
   "outputs": [
    {
     "name": "stdout",
     "output_type": "stream",
     "text": [
      "[[ 1  4  6  8]\n",
      " [ 8 67 45  3]]\n",
      "32\n"
     ]
    }
   ],
   "source": [
    "\n",
    "a=np.array([[1,4,6,8],[8,67,45,3]])\n",
    "print(a)\n",
    "\n",
    "print(a.nbytes)"
   ]
  },
  {
   "cell_type": "code",
   "execution_count": 14,
   "id": "a6ec3d4d",
   "metadata": {},
   "outputs": [
    {
     "name": "stdout",
     "output_type": "stream",
     "text": [
      "[[ 1  4  6  8]\n",
      " [ 8 67 45  3]]\n",
      "64\n"
     ]
    }
   ],
   "source": [
    "a=np.array([[1,4,6,8],[8,67,45,3]],dtype=np.int64)    #with the help pf dtype we change its size, but default size is float.\n",
    "print(a)\n",
    "\n",
    "print(a.nbytes)"
   ]
  },
  {
   "cell_type": "markdown",
   "id": "efd6c37b",
   "metadata": {},
   "source": [
    "### Note- dtype keyword is used to change the memory size "
   ]
  },
  {
   "cell_type": "code",
   "execution_count": 15,
   "id": "f0b1126a",
   "metadata": {},
   "outputs": [
    {
     "data": {
      "text/plain": [
       "array([[34,  6,  7],\n",
       "       [ 8,  7,  9]])"
      ]
     },
     "execution_count": 15,
     "metadata": {},
     "output_type": "execute_result"
    }
   ],
   "source": [
    "a=np.array([[34,6,7],[8,7,9]])\n",
    "a"
   ]
  },
  {
   "cell_type": "code",
   "execution_count": 16,
   "id": "f6ce50df",
   "metadata": {},
   "outputs": [
    {
     "name": "stdout",
     "output_type": "stream",
     "text": [
      "9\n"
     ]
    }
   ],
   "source": [
    "#if we want 9\n",
    "\n",
    "print(a[1][2])   "
   ]
  },
  {
   "cell_type": "markdown",
   "id": "326b2971",
   "metadata": {},
   "source": [
    "#Explain\n",
    "It has 2rows and 3 coloumns\n",
    "\n",
    "firstly we we see where 9 is, 9 in row 1 that's why we write a[1], now we see in row 1 the position of 9 is 2 that's why we wrire [2]"
   ]
  },
  {
   "cell_type": "code",
   "execution_count": 17,
   "id": "5722250d",
   "metadata": {},
   "outputs": [
    {
     "name": "stdout",
     "output_type": "stream",
     "text": [
      "[['11' '12' '14']\n",
      " ['a' '2' 'c']\n",
      " ['49.1' '44.5' '9.0']]\n",
      "<class 'numpy.ndarray'>\n",
      "\n",
      "number of dims =  2\n",
      "\n",
      "Memory space= 1152\n"
     ]
    }
   ],
   "source": [
    "a = np.array([[11,12,14] , [\"a\" , 2 , 'c'] , [49.1,44.5,9.0]])\n",
    "print(a)\n",
    "\n",
    "print(type(a))\n",
    "print(\"\\nnumber of dims = \" , a.ndim)\n",
    "print(\"\\nMemory space=\",a.nbytes)"
   ]
  },
  {
   "cell_type": "code",
   "execution_count": 18,
   "id": "f96e1d3a",
   "metadata": {},
   "outputs": [
    {
     "name": "stdout",
     "output_type": "stream",
     "text": [
      "[[['11' '12' '14']\n",
      "  ['a' '2' 'c']\n",
      "  ['49.1' '44.5' '9.0']]]\n",
      "<class 'numpy.ndarray'>\n",
      "(1, 3, 3)\n",
      "\n",
      "number of dims =  3\n",
      "\n",
      "Memory space= 1152\n"
     ]
    }
   ],
   "source": [
    "a = np.array([[[11,12,14] , [\"a\" , 2 , 'c'] , [49.1,44.5,9.0]]])\n",
    "print(a)\n",
    "\n",
    "print(type(a))\n",
    "print(a.shape)\n",
    "print(\"\\nnumber of dims = \" , a.ndim)\n",
    "print(\"\\nMemory space=\",a.nbytes)"
   ]
  },
  {
   "cell_type": "markdown",
   "id": "759a0f7b",
   "metadata": {},
   "source": [
    "# arange()"
   ]
  },
  {
   "cell_type": "code",
   "execution_count": 19,
   "id": "cff27cfc",
   "metadata": {},
   "outputs": [],
   "source": [
    "# for single dimensions there is a method in numpy called = arange \n"
   ]
  },
  {
   "cell_type": "code",
   "execution_count": 20,
   "id": "ff81cc20",
   "metadata": {},
   "outputs": [
    {
     "name": "stdout",
     "output_type": "stream",
     "text": [
      "[1 2 3 4 5 6 7 8 9]\n",
      "1\n",
      "\n",
      "type= <class 'numpy.ndarray'>\n"
     ]
    }
   ],
   "source": [
    "a=np.arange(1,10)      #follow n-1 concept #(Starting num,end num-1)\n",
    "print(a)\n",
    "print(a.ndim)\n",
    "\n",
    "print(\"\\ntype=\",type(a))"
   ]
  },
  {
   "cell_type": "code",
   "execution_count": 21,
   "id": "5ff155d8",
   "metadata": {},
   "outputs": [
    {
     "name": "stdout",
     "output_type": "stream",
     "text": [
      "[1 3 5 7 9]\n"
     ]
    }
   ],
   "source": [
    "a=np.arange(1,10,2)  #last perimeter is step size , giving the gap of two numbers\n",
    "print(a)"
   ]
  },
  {
   "cell_type": "code",
   "execution_count": 22,
   "id": "1c53ef92",
   "metadata": {},
   "outputs": [
    {
     "name": "stdout",
     "output_type": "stream",
     "text": [
      "[1 3 5 7 9]\n",
      "20\n"
     ]
    }
   ],
   "source": [
    "# using data type\n",
    "\n",
    "a=np.arange(1,10,2,dtype=int)\n",
    "print(a)\n",
    "\n",
    "print(a.nbytes)"
   ]
  },
  {
   "cell_type": "code",
   "execution_count": 23,
   "id": "2de6dfb8",
   "metadata": {},
   "outputs": [
    {
     "name": "stdout",
     "output_type": "stream",
     "text": [
      "[1. 3. 5. 7. 9.]\n",
      "40\n"
     ]
    }
   ],
   "source": [
    "a=np.arange(1,10,2,dtype=float)\n",
    "print(a)\n",
    "\n",
    "print(a.nbytes)"
   ]
  },
  {
   "cell_type": "code",
   "execution_count": 24,
   "id": "4831009e",
   "metadata": {},
   "outputs": [
    {
     "name": "stdout",
     "output_type": "stream",
     "text": [
      "[1 2 3 4 5 6 7 8 9]\n"
     ]
    }
   ],
   "source": [
    "a=np.arange(1,10)\n",
    "print(a)"
   ]
  },
  {
   "cell_type": "code",
   "execution_count": 25,
   "id": "a8101260",
   "metadata": {},
   "outputs": [
    {
     "name": "stdout",
     "output_type": "stream",
     "text": [
      "[1 2 3 4 5 6 7 8 9]\n",
      "[ 1  2  3  4  5  6 50 50 50]\n"
     ]
    }
   ],
   "source": [
    "a=np.arange(1,10)\n",
    "print(a)\n",
    "a[6:]=50\n",
    "print(a)"
   ]
  },
  {
   "cell_type": "code",
   "execution_count": 26,
   "id": "e96a75ef",
   "metadata": {},
   "outputs": [
    {
     "name": "stdout",
     "output_type": "stream",
     "text": [
      "before= [10 11 12 13 14 15 16 17 18 19]\n",
      "after [19 18 17 16 15 14 13 12 11 10]\n"
     ]
    }
   ],
   "source": [
    "#using slicing operation\n",
    "a=np.arange(10,20)\n",
    "print(\"before=\",a)\n",
    "ab=a[::-1]\n",
    "print(\"after\",ab)"
   ]
  },
  {
   "cell_type": "markdown",
   "id": "376b12f1",
   "metadata": {},
   "source": [
    "# linspace()"
   ]
  },
  {
   "cell_type": "markdown",
   "id": "5e2e1d53",
   "metadata": {},
   "source": [
    "linespace is used to brreak the range into pieces:this not follows (n-1) stuff.\n"
   ]
  },
  {
   "cell_type": "markdown",
   "id": "24fd3dc1",
   "metadata": {},
   "source": [
    "Return evenly spaced numbers over a specified interval.\n",
    "\n",
    "Returns num evenly spaced samples, calculated over the interval [start, stop]"
   ]
  },
  {
   "cell_type": "code",
   "execution_count": 27,
   "id": "e38a5d9f",
   "metadata": {},
   "outputs": [
    {
     "name": "stdout",
     "output_type": "stream",
     "text": [
      "[ 2.          4.66666667  7.33333333 10.        ]\n"
     ]
    }
   ],
   "source": [
    "a=np.linspace(2,10,4)\n",
    "print(a)"
   ]
  },
  {
   "cell_type": "raw",
   "id": "3f039aaf",
   "metadata": {},
   "source": [
    "## Parameters:\n",
    "\n",
    "start- array_like\n",
    "The starting value of the sequence.\n",
    "\n",
    "stop- array_like\n",
    "The end value of the sequence, unless endpoint is set to False. In that case, the sequence consists of all but the last of num + \n",
    "1 evenly spaced samples, so that stop is excluded. Note that the step size changes when endpoint is False.\n",
    "\n",
    "num- int, optional\n",
    "Number of samples to generate. Default is 50. Must be non-negative.\n",
    "\n",
    "endpoint- bool, optional\n",
    "If True, stop is the last sample. Otherwise, it is not included. Default is True.\n",
    "\n",
    "retstep- bool, optional\n",
    "If True, return (samples, step), where step is the spacing between samples.\n",
    "\n",
    "dtype- d type, optional\n",
    "The type of the output array. If dtype is not given, the data type is inferred from start and stop. The inferred dtype will never be an integer; float is chosen even if the arguments would produce an array of integers."
   ]
  },
  {
   "cell_type": "code",
   "execution_count": 28,
   "id": "c3156111",
   "metadata": {},
   "outputs": [
    {
     "name": "stdout",
     "output_type": "stream",
     "text": [
      "[ 2.          4.57142857  7.14285714  9.71428571 12.28571429 14.85714286\n",
      " 17.42857143 20.        ]\n"
     ]
    }
   ],
   "source": [
    "a=np.linspace(2,20,8)    #start =2 , stop=20\n",
    "print(a)"
   ]
  },
  {
   "cell_type": "code",
   "execution_count": 29,
   "id": "56fc1309",
   "metadata": {},
   "outputs": [
    {
     "name": "stdout",
     "output_type": "stream",
     "text": [
      "[ 2.          4.57142857  7.14285714  9.71428571 12.28571429 14.85714286\n",
      " 17.42857143 20.        ]\n"
     ]
    }
   ],
   "source": [
    "a=np.linspace(2,20,8,endpoint=True)\n",
    "print(a)"
   ]
  },
  {
   "cell_type": "code",
   "execution_count": 30,
   "id": "7e1c72e9",
   "metadata": {},
   "outputs": [
    {
     "name": "stdout",
     "output_type": "stream",
     "text": [
      "[ 2.    4.25  6.5   8.75 11.   13.25 15.5  17.75]\n"
     ]
    }
   ],
   "source": [
    "a=np.linspace(2,20,8,endpoint=False)           #default=true\n",
    "print(a)"
   ]
  },
  {
   "cell_type": "code",
   "execution_count": 31,
   "id": "73b6f5c5",
   "metadata": {},
   "outputs": [
    {
     "name": "stdout",
     "output_type": "stream",
     "text": [
      "[ 2.          4.57142857  7.14285714  9.71428571 12.28571429 14.85714286\n",
      " 17.42857143 20.        ]\n"
     ]
    }
   ],
   "source": [
    "a=np.linspace(2,20,8,retstep=False)           #default=false\n",
    "print(a)"
   ]
  },
  {
   "cell_type": "code",
   "execution_count": 32,
   "id": "04181068",
   "metadata": {},
   "outputs": [
    {
     "name": "stdout",
     "output_type": "stream",
     "text": [
      "(array([ 2.        ,  4.57142857,  7.14285714,  9.71428571, 12.28571429,\n",
      "       14.85714286, 17.42857143, 20.        ]), 2.5714285714285716)\n"
     ]
    }
   ],
   "source": [
    "a=np.linspace(2,20,8,retstep=True)           #how much space is taken\n",
    "print(a)"
   ]
  },
  {
   "cell_type": "markdown",
   "id": "26f9461e",
   "metadata": {},
   "source": [
    "# Zeros()"
   ]
  },
  {
   "cell_type": "markdown",
   "id": "f13809b6",
   "metadata": {},
   "source": [
    "Return a new array of given shape and type, filled with zeros."
   ]
  },
  {
   "cell_type": "raw",
   "id": "1ffcff44",
   "metadata": {},
   "source": [
    "Syntax-- numpy.zeros(shape, dtype=float, order='C', *, like=None)"
   ]
  },
  {
   "cell_type": "raw",
   "id": "7ce5ed4b",
   "metadata": {},
   "source": [
    "Parameters:\n",
    "\n",
    "shape-- int or tuple of ints\n",
    "Shape of the new array, e.g., (2, 3) or 2.\n",
    "\n",
    "dtype-- datatype, optional\n",
    "The desired data-type for the array, e.g., numpy.int8. Default is numpy.float64.\n",
    "\n",
    "order--{‘C’, ‘F’}, optional, default: ‘C’\n",
    "Whether to store multi-dimensional data in row-major (C-style) or column-major (Fortran-style) order in memory.\n",
    "\n",
    "like--array_like, optional\n",
    "Reference object to allow the creation of arrays which are not NumPy arrays. If an array-like passed in as like supports the __array_function__ protocol, the result will be defined by it. In this case, it ensures the creation of an array object compatible with that passed in via this argument."
   ]
  },
  {
   "cell_type": "code",
   "execution_count": 33,
   "id": "e9f9f7b6",
   "metadata": {},
   "outputs": [
    {
     "name": "stdout",
     "output_type": "stream",
     "text": [
      "[0. 0. 0. 0. 0.]\n",
      "1\n"
     ]
    }
   ],
   "source": [
    "\n",
    "\n",
    "a=np.zeros(5)\n",
    "print(a)\n",
    "print(a.ndim)"
   ]
  },
  {
   "cell_type": "code",
   "execution_count": 34,
   "id": "15489c76",
   "metadata": {},
   "outputs": [
    {
     "name": "stdout",
     "output_type": "stream",
     "text": [
      "[0 0 0 0 0]\n"
     ]
    }
   ],
   "source": [
    "a=np.zeros(5,dtype=int)\n",
    "print(a)"
   ]
  },
  {
   "cell_type": "code",
   "execution_count": 35,
   "id": "79f4f830",
   "metadata": {},
   "outputs": [
    {
     "name": "stdout",
     "output_type": "stream",
     "text": [
      "[[0. 0. 0. 0. 0. 0. 0. 0.]\n",
      " [0. 0. 0. 0. 0. 0. 0. 0.]\n",
      " [0. 0. 0. 0. 0. 0. 0. 0.]\n",
      " [0. 0. 0. 0. 0. 0. 0. 0.]\n",
      " [0. 0. 0. 0. 0. 0. 0. 0.]]\n"
     ]
    }
   ],
   "source": [
    "\n",
    "a=np.zeros((5,8))\n",
    "print(a)"
   ]
  },
  {
   "cell_type": "code",
   "execution_count": 36,
   "id": "3673898e",
   "metadata": {},
   "outputs": [
    {
     "name": "stdout",
     "output_type": "stream",
     "text": [
      "[[[0 0]\n",
      "  [0 0]\n",
      "  [0 0]]\n",
      "\n",
      " [[0 0]\n",
      "  [0 0]\n",
      "  [0 0]]\n",
      "\n",
      " [[0 0]\n",
      "  [0 0]\n",
      "  [0 0]]\n",
      "\n",
      " [[0 0]\n",
      "  [0 0]\n",
      "  [0 0]]\n",
      "\n",
      " [[0 0]\n",
      "  [0 0]\n",
      "  [0 0]]]\n"
     ]
    }
   ],
   "source": [
    "a=np.zeros((5,3,2),dtype=int)\n",
    "print(a)"
   ]
  },
  {
   "cell_type": "markdown",
   "id": "6aa5d542",
   "metadata": {},
   "source": [
    "# ones()"
   ]
  },
  {
   "cell_type": "markdown",
   "id": "56f971b5",
   "metadata": {},
   "source": [
    "Return a new array of given shape and type, filled with ones."
   ]
  },
  {
   "cell_type": "code",
   "execution_count": 37,
   "id": "60d5c93c",
   "metadata": {},
   "outputs": [
    {
     "name": "stdout",
     "output_type": "stream",
     "text": [
      "[1. 1. 1. 1. 1. 1.]\n"
     ]
    }
   ],
   "source": [
    "a=np.ones(6)\n",
    "print(a)"
   ]
  },
  {
   "cell_type": "code",
   "execution_count": 38,
   "id": "b390bd88",
   "metadata": {},
   "outputs": [
    {
     "name": "stdout",
     "output_type": "stream",
     "text": [
      "[1 1 1 1 1 1]\n"
     ]
    }
   ],
   "source": [
    "a=np.ones(6,dtype=int)\n",
    "print(a)"
   ]
  },
  {
   "cell_type": "code",
   "execution_count": 39,
   "id": "5455f8bc",
   "metadata": {},
   "outputs": [
    {
     "name": "stdout",
     "output_type": "stream",
     "text": [
      "[[1. 1. 1. 1. 1. 1. 1.]\n",
      " [1. 1. 1. 1. 1. 1. 1.]\n",
      " [1. 1. 1. 1. 1. 1. 1.]\n",
      " [1. 1. 1. 1. 1. 1. 1.]]\n"
     ]
    }
   ],
   "source": [
    "a=np.ones((4,7))\n",
    "print(a)"
   ]
  },
  {
   "cell_type": "code",
   "execution_count": 40,
   "id": "7fff2e35",
   "metadata": {},
   "outputs": [
    {
     "name": "stdout",
     "output_type": "stream",
     "text": [
      "[[[1. 1. 1.]\n",
      "  [1. 1. 1.]\n",
      "  [1. 1. 1.]\n",
      "  [1. 1. 1.]]\n",
      "\n",
      " [[1. 1. 1.]\n",
      "  [1. 1. 1.]\n",
      "  [1. 1. 1.]\n",
      "  [1. 1. 1.]]]\n"
     ]
    }
   ],
   "source": [
    "a=np.ones((2,4,3))\n",
    "print(a)"
   ]
  },
  {
   "cell_type": "markdown",
   "id": "4fd2238e",
   "metadata": {},
   "source": [
    "# Random concept"
   ]
  },
  {
   "cell_type": "markdown",
   "id": "b514c9a7",
   "metadata": {},
   "source": [
    "Create an array of the given shape and populate it with random samples from a uniform distribution over [0, 1)."
   ]
  },
  {
   "cell_type": "code",
   "execution_count": 41,
   "id": "8a78a7ea",
   "metadata": {},
   "outputs": [
    {
     "data": {
      "text/plain": [
       "19"
      ]
     },
     "execution_count": 41,
     "metadata": {},
     "output_type": "execute_result"
    }
   ],
   "source": [
    "# randint = used to select a random integer value \n",
    "\n",
    "np.random.seed(11)  # this line used to keep stable outcome \n",
    "\n",
    "# seed -------->randint  \n",
    "     \n",
    "\n",
    "\n",
    "np.random.randint(10,20)"
   ]
  },
  {
   "cell_type": "code",
   "execution_count": 42,
   "id": "25a611a3",
   "metadata": {},
   "outputs": [
    {
     "name": "stdout",
     "output_type": "stream",
     "text": [
      "[[0.06830684 0.66472032 0.19411562 0.92628296]\n",
      " [0.10517516 0.22571272 0.89634075 0.82618135]\n",
      " [0.09281249 0.88970819 0.71376193 0.51789854]\n",
      " [0.78538872 0.58766585 0.73683621 0.67251024]]\n"
     ]
    }
   ],
   "source": [
    "# rand=gives values from 0 to 1:  random values\n",
    "\n",
    "a=np.random.rand(4,4)   # randomlly 3 rows and 4 columns created \n",
    "print(a)"
   ]
  },
  {
   "cell_type": "code",
   "execution_count": 43,
   "id": "d1d1d5a9",
   "metadata": {},
   "outputs": [
    {
     "name": "stdout",
     "output_type": "stream",
     "text": [
      "[0.97007099 0.98857911 0.7781032  0.02514928 0.92127874]\n"
     ]
    }
   ],
   "source": [
    "a=np.random.rand(5)\n",
    "print(a)"
   ]
  },
  {
   "cell_type": "code",
   "execution_count": 44,
   "id": "7efaa92e",
   "metadata": {},
   "outputs": [
    {
     "name": "stdout",
     "output_type": "stream",
     "text": [
      "[[-1.27147013 -0.36504469  0.39154076 -0.318382    0.4417959  -0.55436174]\n",
      " [ 1.5023821  -0.08958725  0.12593849 -0.47256745  0.92555968 -0.13389511]\n",
      " [ 0.0114951  -0.77089861  1.97127672 -0.38668093 -2.70551241 -0.55119021]\n",
      " [-0.50050111 -0.1114592  -0.10875487 -1.40320603  0.22448369  0.5359486 ]]\n"
     ]
    }
   ],
   "source": [
    "# randn = works with standard devitaltion concept : dont worry just small change coompare to randn\n",
    "\n",
    "a=np.random.randn(4,6) \n",
    "print(a)"
   ]
  },
  {
   "cell_type": "code",
   "execution_count": 45,
   "id": "1243186f",
   "metadata": {},
   "outputs": [
    {
     "name": "stdout",
     "output_type": "stream",
     "text": [
      "[[0.9882568  0.4696408  0.82353614 0.05068039 0.74390587 0.2632371 ]\n",
      " [0.97713662 0.66548802 0.9939018  0.32010281 0.78901697 0.21480359]\n",
      " [0.95110795 0.33474034 0.50177261 0.72056553 0.37191634 0.15856975]\n",
      " [0.05442761 0.65078059 0.04019312 0.22806536 0.45741168 0.28448009]]\n"
     ]
    }
   ],
   "source": [
    "a=np.random.random((4,6))\n",
    "print(a)"
   ]
  },
  {
   "cell_type": "markdown",
   "id": "c6cadb1e",
   "metadata": {},
   "source": [
    "## Difference between randn and rand\n",
    "\n",
    "numpy.random.randn generates samples from the normal distribution, while numpy.random.rand from uniform (in range [0,1))."
   ]
  },
  {
   "cell_type": "markdown",
   "id": "2e4811a5",
   "metadata": {},
   "source": [
    "# Note---\n",
    "\n",
    "for numpy  axis = 1 means rows and axis = 0 means columns \n",
    "for pandas   axis = 0 means rows and axis = 1 means columns "
   ]
  },
  {
   "cell_type": "markdown",
   "id": "afc12791",
   "metadata": {},
   "source": [
    "# Seed function"
   ]
  },
  {
   "cell_type": "raw",
   "id": "dabc4ff5",
   "metadata": {},
   "source": [
    "we know that randint() function generates random numbers. Everytime we run the program, new set of random numbers is generated.\n",
    "But if we want to fix the generation of this random numbers.\n",
    "In this case we use seed, this generates fix set of random numbers.\n",
    "\n"
   ]
  },
  {
   "cell_type": "code",
   "execution_count": 125,
   "id": "af215d5b",
   "metadata": {},
   "outputs": [
    {
     "name": "stdout",
     "output_type": "stream",
     "text": [
      "[76 28  7  3  4 68 77 49 23 50]\n"
     ]
    }
   ],
   "source": [
    "np.random.seed(12)\n",
    "arr=np.random.randint(1,100,10)\n",
    "print(arr)"
   ]
  },
  {
   "cell_type": "code",
   "execution_count": 127,
   "id": "78b36fc2",
   "metadata": {},
   "outputs": [
    {
     "name": "stdout",
     "output_type": "stream",
     "text": [
      "[41 16 73 23 44 83 76  8 35 50]\n"
     ]
    }
   ],
   "source": [
    "np.random.seed(2)\n",
    "arr=np.random.randint(1,100,10)\n",
    "print(arr)"
   ]
  },
  {
   "cell_type": "code",
   "execution_count": 130,
   "id": "2645b90a",
   "metadata": {},
   "outputs": [
    {
     "name": "stdout",
     "output_type": "stream",
     "text": [
      "[69 47 71 96 84 32 67 81 53 77]\n"
     ]
    }
   ],
   "source": [
    "arr=np.random.randint(1,100,10)\n",
    "print(arr)"
   ]
  },
  {
   "cell_type": "code",
   "execution_count": 138,
   "id": "0ca9b394",
   "metadata": {},
   "outputs": [
    {
     "name": "stdout",
     "output_type": "stream",
     "text": [
      "[[-0.41675785 -0.05626683 -2.1361961   1.64027081 -1.79343559 -0.84174737\n",
      "   0.50288142 -1.24528809 -1.05795222 -0.90900761]]\n"
     ]
    }
   ],
   "source": [
    "np.random.seed(2)\n",
    "arr=np.random.randn(1,10)\n",
    "print(arr)"
   ]
  },
  {
   "cell_type": "markdown",
   "id": "9d0145ce",
   "metadata": {},
   "source": [
    "# Conversion of array"
   ]
  },
  {
   "cell_type": "code",
   "execution_count": 46,
   "id": "c0463c05",
   "metadata": {},
   "outputs": [
    {
     "name": "stdout",
     "output_type": "stream",
     "text": [
      "[ 1  2  3  4  5  6  7  8  9 10 11 12 13 14 15 16 17 18 19 20]\n",
      "1\n"
     ]
    }
   ],
   "source": [
    "#from 1D to 2D\n",
    "\n",
    "a=np.arange(1,21)\n",
    "print(a)\n",
    "\n",
    "print(a.ndim)        #find the dimension"
   ]
  },
  {
   "cell_type": "code",
   "execution_count": 47,
   "id": "7913195b",
   "metadata": {},
   "outputs": [
    {
     "name": "stdout",
     "output_type": "stream",
     "text": [
      "[[ 1  2  3  4]\n",
      " [ 5  6  7  8]\n",
      " [ 9 10 11 12]\n",
      " [13 14 15 16]\n",
      " [17 18 19 20]]\n",
      "2\n"
     ]
    }
   ],
   "source": [
    "ab=np.arange(1,21).reshape(5,4)      \n",
    "print(ab)\n",
    "\n",
    "print(ab.ndim)"
   ]
  },
  {
   "cell_type": "markdown",
   "id": "ca51eccd",
   "metadata": {},
   "source": [
    "### Note-- reshape keyword is used to change the shape of array."
   ]
  },
  {
   "cell_type": "code",
   "execution_count": 48,
   "id": "fda32115",
   "metadata": {},
   "outputs": [
    {
     "data": {
      "text/plain": [
       "11"
      ]
     },
     "execution_count": 48,
     "metadata": {},
     "output_type": "execute_result"
    }
   ],
   "source": [
    "#pull out the value 11\n",
    "\n",
    "ab[2][2]"
   ]
  },
  {
   "cell_type": "code",
   "execution_count": 49,
   "id": "6fa6c856",
   "metadata": {},
   "outputs": [
    {
     "data": {
      "text/plain": [
       "19"
      ]
     },
     "execution_count": 49,
     "metadata": {},
     "output_type": "execute_result"
    }
   ],
   "source": [
    "#pull out 19\n",
    "ab[4][2]"
   ]
  },
  {
   "cell_type": "code",
   "execution_count": 50,
   "id": "66640959",
   "metadata": {},
   "outputs": [
    {
     "name": "stdout",
     "output_type": "stream",
     "text": [
      "[ 1  2  3  4  5  6  7  8  9 10 11 12 13 14 15 16 17 18 19 20 21 22 23 24\n",
      " 25 26 27 28 29 30 31 32 33 34 35 36 37 38 39 40]\n"
     ]
    }
   ],
   "source": [
    "# convert 1d to 3d and pull value out \n",
    "\n",
    "b=np.arange(1,41)\n",
    "print(b)"
   ]
  },
  {
   "cell_type": "code",
   "execution_count": 51,
   "id": "de7a1c7f",
   "metadata": {},
   "outputs": [
    {
     "name": "stdout",
     "output_type": "stream",
     "text": [
      "[[[ 1  2  3  4  5  6  7  8  9 10]\n",
      "  [11 12 13 14 15 16 17 18 19 20]]\n",
      "\n",
      " [[21 22 23 24 25 26 27 28 29 30]\n",
      "  [31 32 33 34 35 36 37 38 39 40]]]\n",
      "3\n"
     ]
    }
   ],
   "source": [
    "b=np.arange(1,41).reshape(2,2,10)          #2*2*10=40\n",
    "print(b)\n",
    "\n",
    "print(b.ndim)"
   ]
  },
  {
   "cell_type": "code",
   "execution_count": 52,
   "id": "3d314384",
   "metadata": {},
   "outputs": [
    {
     "data": {
      "text/plain": [
       "24"
      ]
     },
     "execution_count": 52,
     "metadata": {},
     "output_type": "execute_result"
    }
   ],
   "source": [
    "#pull out 24\n",
    "\n",
    "b[1][0][3]"
   ]
  },
  {
   "cell_type": "code",
   "execution_count": 53,
   "id": "d2e64c92",
   "metadata": {},
   "outputs": [
    {
     "data": {
      "text/plain": [
       "array([[12, 14, 16, 18, 20, 22, 24, 26, 28, 30],\n",
       "       [52, 54, 56, 58, 60, 62, 64, 66, 68, 70]])"
      ]
     },
     "execution_count": 53,
     "metadata": {},
     "output_type": "execute_result"
    }
   ],
   "source": [
    "# we can check sum of the array also\n",
    "np.sum(b,axis=1)             # 1 is for row wise"
   ]
  },
  {
   "cell_type": "code",
   "execution_count": 54,
   "id": "519a764b",
   "metadata": {},
   "outputs": [
    {
     "data": {
      "text/plain": [
       "array([[22, 24, 26, 28, 30, 32, 34, 36, 38, 40],\n",
       "       [42, 44, 46, 48, 50, 52, 54, 56, 58, 60]])"
      ]
     },
     "execution_count": 54,
     "metadata": {},
     "output_type": "execute_result"
    }
   ],
   "source": [
    "\n",
    "np.sum(b,axis=0)             # 0 is for coloumn wise"
   ]
  },
  {
   "cell_type": "code",
   "execution_count": 55,
   "id": "fb27d142",
   "metadata": {},
   "outputs": [
    {
     "data": {
      "text/plain": [
       "820"
      ]
     },
     "execution_count": 55,
     "metadata": {},
     "output_type": "execute_result"
    }
   ],
   "source": [
    "np.sum(b)                     #sum of entire array"
   ]
  },
  {
   "cell_type": "markdown",
   "id": "403c1ee3",
   "metadata": {},
   "source": [
    "# Vstack and hstack :  vertical stacking and horizontal stacking \n"
   ]
  },
  {
   "cell_type": "markdown",
   "id": "42844296",
   "metadata": {},
   "source": [
    "### vstack"
   ]
  },
  {
   "cell_type": "markdown",
   "id": "beb0d5b6",
   "metadata": {},
   "source": [
    "place one array on top of the other: number of columns should match vstack"
   ]
  },
  {
   "cell_type": "code",
   "execution_count": 64,
   "id": "67e4841f",
   "metadata": {},
   "outputs": [
    {
     "name": "stdout",
     "output_type": "stream",
     "text": [
      "[[ 1  2  3  4  5]\n",
      " [ 6  7  8  9 10]\n",
      " [11 12 13 14 15]\n",
      " [16 17 18 19 20]]\n"
     ]
    }
   ],
   "source": [
    "a=np.arange(1,21).reshape(4,5)\n",
    "print(a)"
   ]
  },
  {
   "cell_type": "code",
   "execution_count": 63,
   "id": "52476b6e",
   "metadata": {},
   "outputs": [
    {
     "name": "stdout",
     "output_type": "stream",
     "text": [
      "[[21 22 23 24 25]\n",
      " [26 27 28 29 30]\n",
      " [31 32 33 34 35]\n",
      " [36 37 38 39 40]]\n"
     ]
    }
   ],
   "source": [
    "b=np.arange(21,41).reshape(4,5)\n",
    "print(b)"
   ]
  },
  {
   "cell_type": "code",
   "execution_count": 65,
   "id": "42b67786",
   "metadata": {},
   "outputs": [
    {
     "name": "stdout",
     "output_type": "stream",
     "text": [
      "[[ 1  2  3  4  5]\n",
      " [ 6  7  8  9 10]\n",
      " [11 12 13 14 15]\n",
      " [16 17 18 19 20]\n",
      " [21 22 23 24 25]\n",
      " [26 27 28 29 30]\n",
      " [31 32 33 34 35]\n",
      " [36 37 38 39 40]]\n"
     ]
    }
   ],
   "source": [
    "c=np.vstack((a,b))\n",
    "print(c)"
   ]
  },
  {
   "cell_type": "code",
   "execution_count": 77,
   "id": "dfcc2b32",
   "metadata": {},
   "outputs": [
    {
     "name": "stdout",
     "output_type": "stream",
     "text": [
      "[[ 1  2  3  4  5  6]\n",
      " [ 7  8  9 10 11 12]\n",
      " [13 14 15 16 17 18]]\n"
     ]
    }
   ],
   "source": [
    "#Another example\n",
    "\n",
    "a=np.arange(1,19).reshape(3,6)\n",
    "print(a)"
   ]
  },
  {
   "cell_type": "code",
   "execution_count": 74,
   "id": "3229dea8",
   "metadata": {},
   "outputs": [
    {
     "name": "stdout",
     "output_type": "stream",
     "text": [
      "[[19 20 21 22 23 24]\n",
      " [25 26 27 28 29 30]\n",
      " [31 32 33 34 35 36]]\n"
     ]
    }
   ],
   "source": [
    "b=np.arange(19,37).reshape(3,6)\n",
    "print(b)"
   ]
  },
  {
   "cell_type": "code",
   "execution_count": 78,
   "id": "2b32a9ed",
   "metadata": {},
   "outputs": [
    {
     "name": "stdout",
     "output_type": "stream",
     "text": [
      "[[ 1  2  3  4  5  6]\n",
      " [ 7  8  9 10 11 12]\n",
      " [13 14 15 16 17 18]\n",
      " [19 20 21 22 23 24]\n",
      " [25 26 27 28 29 30]\n",
      " [31 32 33 34 35 36]]\n"
     ]
    }
   ],
   "source": [
    "c=np.vstack((a,b))\n",
    "print(c)"
   ]
  },
  {
   "cell_type": "markdown",
   "id": "0444cf54",
   "metadata": {},
   "source": [
    "### hstack"
   ]
  },
  {
   "cell_type": "markdown",
   "id": "9c04dabd",
   "metadata": {},
   "source": [
    "horizontal stacking: one next to the other . number of rows of the 2 arrays should match.\n"
   ]
  },
  {
   "cell_type": "code",
   "execution_count": 79,
   "id": "07241f50",
   "metadata": {},
   "outputs": [
    {
     "name": "stdout",
     "output_type": "stream",
     "text": [
      "[[ 1  2  3  4  5]\n",
      " [ 6  7  8  9 10]\n",
      " [11 12 13 14 15]\n",
      " [16 17 18 19 20]]\n"
     ]
    }
   ],
   "source": [
    "a=np.arange(1,21).reshape(4,5)\n",
    "print(a)"
   ]
  },
  {
   "cell_type": "code",
   "execution_count": 80,
   "id": "ee9eee8e",
   "metadata": {},
   "outputs": [
    {
     "name": "stdout",
     "output_type": "stream",
     "text": [
      "[[21 22 23 24 25]\n",
      " [26 27 28 29 30]\n",
      " [31 32 33 34 35]\n",
      " [36 37 38 39 40]]\n"
     ]
    }
   ],
   "source": [
    "b=np.arange(21,41).reshape(4,5)\n",
    "print(b)"
   ]
  },
  {
   "cell_type": "code",
   "execution_count": 81,
   "id": "e5828f45",
   "metadata": {},
   "outputs": [
    {
     "name": "stdout",
     "output_type": "stream",
     "text": [
      "[[ 1  2  3  4  5 21 22 23 24 25]\n",
      " [ 6  7  8  9 10 26 27 28 29 30]\n",
      " [11 12 13 14 15 31 32 33 34 35]\n",
      " [16 17 18 19 20 36 37 38 39 40]]\n"
     ]
    }
   ],
   "source": [
    "c=np.hstack((a,b))\n",
    "print(c)"
   ]
  },
  {
   "cell_type": "markdown",
   "id": "2ce7c0a8",
   "metadata": {},
   "source": [
    "# Diag function"
   ]
  },
  {
   "cell_type": "code",
   "execution_count": 82,
   "id": "eeae250c",
   "metadata": {},
   "outputs": [
    {
     "name": "stdout",
     "output_type": "stream",
     "text": [
      "[[1 0 0 0]\n",
      " [0 4 0 0]\n",
      " [0 0 6 0]\n",
      " [0 0 0 8]]\n"
     ]
    }
   ],
   "source": [
    "a=np.diag([1,4,6,8])\n",
    "print(a)"
   ]
  },
  {
   "cell_type": "code",
   "execution_count": 83,
   "id": "4aecdc0b",
   "metadata": {},
   "outputs": [
    {
     "name": "stdout",
     "output_type": "stream",
     "text": [
      "[[6 0]\n",
      " [0 7]]\n"
     ]
    }
   ],
   "source": [
    "b=np.diag([6,7])\n",
    "print(b)"
   ]
  },
  {
   "cell_type": "markdown",
   "id": "6f4a7d18",
   "metadata": {},
   "source": [
    "# Ravel"
   ]
  },
  {
   "cell_type": "markdown",
   "id": "5b3b6e0c",
   "metadata": {},
   "source": [
    "used to convert 2D array to 1D"
   ]
  },
  {
   "cell_type": "code",
   "execution_count": 84,
   "id": "8b8e2928",
   "metadata": {},
   "outputs": [
    {
     "name": "stdout",
     "output_type": "stream",
     "text": [
      "[[1 3 5]\n",
      " [6 7 8]]\n",
      "2\n"
     ]
    }
   ],
   "source": [
    "a=np.array([[1,3,5],[6,7,8]])\n",
    "print(a)\n",
    "print(a.ndim)"
   ]
  },
  {
   "cell_type": "code",
   "execution_count": 85,
   "id": "0b1c71e0",
   "metadata": {},
   "outputs": [
    {
     "name": "stdout",
     "output_type": "stream",
     "text": [
      "[1 3 5 6 7 8]\n",
      "1\n"
     ]
    }
   ],
   "source": [
    "b=a.ravel()\n",
    "print(b)\n",
    "print(b.ndim)"
   ]
  },
  {
   "cell_type": "code",
   "execution_count": 86,
   "id": "d2fdf1bb",
   "metadata": {},
   "outputs": [
    {
     "name": "stdout",
     "output_type": "stream",
     "text": [
      "[[[1 3 5]\n",
      "  [6 7 8]]]\n",
      "3\n"
     ]
    }
   ],
   "source": [
    "a=np.array([[[1,3,5],[6,7,8]]])     #3d array\n",
    "print(a)\n",
    "print(a.ndim)"
   ]
  },
  {
   "cell_type": "code",
   "execution_count": 88,
   "id": "b25b58d3",
   "metadata": {},
   "outputs": [
    {
     "name": "stdout",
     "output_type": "stream",
     "text": [
      "[1 3 5 6 7 8]\n",
      "1\n"
     ]
    }
   ],
   "source": [
    "b=a.ravel()\n",
    "print(b)\n",
    "print(b.ndim)"
   ]
  },
  {
   "cell_type": "markdown",
   "id": "1323fa76",
   "metadata": {},
   "source": [
    "# Transpose"
   ]
  },
  {
   "cell_type": "code",
   "execution_count": 89,
   "id": "c2e15329",
   "metadata": {},
   "outputs": [
    {
     "name": "stdout",
     "output_type": "stream",
     "text": [
      "[[1 5 7]\n",
      " [5 7 9]]\n",
      "(2, 3)\n"
     ]
    }
   ],
   "source": [
    "#convert rows into coloumn\n",
    "\n",
    "a=np.array([[1,5,7],[5,7,9]])\n",
    "print(a)\n",
    "print(a.shape)"
   ]
  },
  {
   "cell_type": "code",
   "execution_count": 91,
   "id": "d8270dd9",
   "metadata": {},
   "outputs": [
    {
     "name": "stdout",
     "output_type": "stream",
     "text": [
      "[[1 5]\n",
      " [5 7]\n",
      " [7 9]]\n",
      "(3, 2)\n"
     ]
    }
   ],
   "source": [
    "b=a.T          #T for tranpose\n",
    "print(b)\n",
    "print(b.shape)"
   ]
  },
  {
   "cell_type": "code",
   "execution_count": 92,
   "id": "30d5009a",
   "metadata": {},
   "outputs": [
    {
     "name": "stdout",
     "output_type": "stream",
     "text": [
      "[[ 1  5  7]\n",
      " [ 9 11 13]]\n",
      "(2, 3)\n"
     ]
    }
   ],
   "source": [
    "a=np.array([[1,5,7],[9,11,13]])\n",
    "print(a)\n",
    "print(a.shape)"
   ]
  },
  {
   "cell_type": "code",
   "execution_count": 93,
   "id": "3ed42285",
   "metadata": {},
   "outputs": [
    {
     "name": "stdout",
     "output_type": "stream",
     "text": [
      "[[ 1  9]\n",
      " [ 5 11]\n",
      " [ 7 13]]\n",
      "(3, 2)\n"
     ]
    }
   ],
   "source": [
    "b=a.T          #T for tranpose\n",
    "print(b)\n",
    "print(b.shape)"
   ]
  },
  {
   "cell_type": "markdown",
   "id": "01040f6d",
   "metadata": {},
   "source": [
    "# abs"
   ]
  },
  {
   "cell_type": "markdown",
   "id": "525b4121",
   "metadata": {},
   "source": [
    "always return positive value"
   ]
  },
  {
   "cell_type": "code",
   "execution_count": 94,
   "id": "290525f1",
   "metadata": {},
   "outputs": [
    {
     "data": {
      "text/plain": [
       "45"
      ]
     },
     "execution_count": 94,
     "metadata": {},
     "output_type": "execute_result"
    }
   ],
   "source": [
    "a=np.abs(-45)\n",
    "a"
   ]
  },
  {
   "cell_type": "code",
   "execution_count": 96,
   "id": "5a85f79a",
   "metadata": {},
   "outputs": [
    {
     "data": {
      "text/plain": [
       "87"
      ]
     },
     "execution_count": 96,
     "metadata": {},
     "output_type": "execute_result"
    }
   ],
   "source": [
    "a=np.abs(87)\n",
    "a"
   ]
  },
  {
   "cell_type": "markdown",
   "id": "9a9b25f4",
   "metadata": {},
   "source": [
    "# Concatination"
   ]
  },
  {
   "cell_type": "markdown",
   "id": "75dd9e5a",
   "metadata": {},
   "source": [
    "Adding"
   ]
  },
  {
   "cell_type": "code",
   "execution_count": 99,
   "id": "056b9a0c",
   "metadata": {},
   "outputs": [
    {
     "name": "stdout",
     "output_type": "stream",
     "text": [
      "a= [[1 2 3 4]\n",
      " [5 6 7 8]]\n",
      "b= [[11 12 13 14]\n",
      " [15 16 17 18]]\n",
      "\n",
      "After concatination\n",
      "[[ 1  2  3  4]\n",
      " [ 5  6  7  8]\n",
      " [11 12 13 14]\n",
      " [15 16 17 18]]\n"
     ]
    }
   ],
   "source": [
    "a=np.array([[1,2,3,4],[5,6,7,8]])\n",
    "b=np.array([[11,12,13,14],[15,16,17,18]])\n",
    "\n",
    "print(\"a=\",a)\n",
    "print(\"b=\",b)\n",
    "\n",
    "print(\"\\nAfter concatination\")\n",
    "\n",
    "c=np.concatenate([a,b])               #its like vstack\n",
    "print(c)"
   ]
  },
  {
   "cell_type": "markdown",
   "id": "f0d87b66",
   "metadata": {},
   "source": [
    "# indentity matrix"
   ]
  },
  {
   "cell_type": "markdown",
   "id": "99819f17",
   "metadata": {},
   "source": [
    "The identity array is a square array with ones on the main diagonal."
   ]
  },
  {
   "cell_type": "raw",
   "id": "c074e0c2",
   "metadata": {},
   "source": [
    "syntax: numpy.identity(n, dtype=None, *, like=None)\n"
   ]
  },
  {
   "cell_type": "code",
   "execution_count": 101,
   "id": "b3446b3f",
   "metadata": {},
   "outputs": [
    {
     "data": {
      "text/plain": [
       "array([[1, 0, 0, 0],\n",
       "       [0, 1, 0, 0],\n",
       "       [0, 0, 1, 0]], dtype=int64)"
      ]
     },
     "execution_count": 101,
     "metadata": {},
     "output_type": "execute_result"
    }
   ],
   "source": [
    "a=np.eye(3,4,dtype=np.int64)\n",
    "a"
   ]
  },
  {
   "cell_type": "markdown",
   "id": "152aff55",
   "metadata": {},
   "source": [
    "# Numpy.full"
   ]
  },
  {
   "cell_type": "raw",
   "id": "9f959e7c",
   "metadata": {},
   "source": [
    "Return a new array of given shape and type, filled with fill_value.\n",
    "\n",
    "Syntax: numpy.full(shape, fill_value, dtype=None, order='C', *, like=None)"
   ]
  },
  {
   "cell_type": "code",
   "execution_count": 102,
   "id": "261c8cde",
   "metadata": {},
   "outputs": [
    {
     "name": "stdout",
     "output_type": "stream",
     "text": [
      "[[8 8 8 8 8]\n",
      " [8 8 8 8 8]\n",
      " [8 8 8 8 8]\n",
      " [8 8 8 8 8]]\n"
     ]
    }
   ],
   "source": [
    "a = np.full((4,5) ,8, dtype = np.int64)\n",
    "print(a)"
   ]
  },
  {
   "cell_type": "code",
   "execution_count": 104,
   "id": "9a377ea2",
   "metadata": {},
   "outputs": [
    {
     "name": "stdout",
     "output_type": "stream",
     "text": [
      "[[55 55 55 55 55]\n",
      " [55 55 55 55 55]\n",
      " [55 55 55 55 55]\n",
      " [55 55 55 55 55]\n",
      " [55 55 55 55 55]\n",
      " [55 55 55 55 55]\n",
      " [55 55 55 55 55]]\n"
     ]
    }
   ],
   "source": [
    "a = np.full((7,5) ,55, dtype = np.int64)\n",
    "print(a)"
   ]
  },
  {
   "cell_type": "markdown",
   "id": "28739161",
   "metadata": {},
   "source": [
    "# How to change the value in array"
   ]
  },
  {
   "cell_type": "code",
   "execution_count": 114,
   "id": "91e7d082",
   "metadata": {},
   "outputs": [
    {
     "name": "stdout",
     "output_type": "stream",
     "text": [
      "before changing value: [[1 3 5 7]\n",
      " [8 9 6 7]]\n",
      "\n",
      "After [[ 1  3  5  7]\n",
      " [ 8  9 88  7]]\n"
     ]
    }
   ],
   "source": [
    "a=np.array([[1,3,5,7],[8,9,6,7]])\n",
    "print(\"before changing value:\",a)\n",
    "b=a\n",
    "b[1][2]=88\n",
    "print(\"\\nAfter\",b)"
   ]
  },
  {
   "cell_type": "markdown",
   "id": "7fa7b7f1",
   "metadata": {},
   "source": [
    "# How to check the version of numpy"
   ]
  },
  {
   "cell_type": "code",
   "execution_count": 115,
   "id": "67321107",
   "metadata": {},
   "outputs": [
    {
     "name": "stdout",
     "output_type": "stream",
     "text": [
      "1.23.5\n"
     ]
    }
   ],
   "source": [
    "print(np.__version__)"
   ]
  },
  {
   "cell_type": "markdown",
   "id": "99ef79ef",
   "metadata": {},
   "source": [
    "# Math operations"
   ]
  },
  {
   "cell_type": "code",
   "execution_count": 120,
   "id": "85fca032",
   "metadata": {},
   "outputs": [
    {
     "name": "stdout",
     "output_type": "stream",
     "text": [
      "X=  [[111 112]\n",
      " [121 122]]\n",
      "\n",
      "Y= [[211.1 212.1]\n",
      " [221.1 222.1]]\n"
     ]
    }
   ],
   "source": [
    "x = np.array([[111,112],[121,122]], dtype=np.int64)\n",
    "y = np.array([[211.1,212.1],[221.1,222.1]], dtype=np.float64)\n",
    "\n",
    "print('X= ' , x)\n",
    "print()\n",
    "print('Y=' , y)"
   ]
  },
  {
   "cell_type": "code",
   "execution_count": 122,
   "id": "ad5cb3f7",
   "metadata": {},
   "outputs": [
    {
     "name": "stdout",
     "output_type": "stream",
     "text": [
      "[[322.1 324.1]\n",
      " [342.1 344.1]]\n"
     ]
    }
   ],
   "source": [
    "c=np.add(x,y)\n",
    "print(c)              #111+211.1=322.1,112+212.1=324.1\n",
    "                      #121+221.1=342.1,122+222.1=344.1"
   ]
  },
  {
   "cell_type": "code",
   "execution_count": null,
   "id": "63f26c7c",
   "metadata": {},
   "outputs": [],
   "source": []
  }
 ],
 "metadata": {
  "kernelspec": {
   "display_name": "Python 3 (ipykernel)",
   "language": "python",
   "name": "python3"
  },
  "language_info": {
   "codemirror_mode": {
    "name": "ipython",
    "version": 3
   },
   "file_extension": ".py",
   "mimetype": "text/x-python",
   "name": "python",
   "nbconvert_exporter": "python",
   "pygments_lexer": "ipython3",
   "version": "3.10.9"
  }
 },
 "nbformat": 4,
 "nbformat_minor": 5
}
